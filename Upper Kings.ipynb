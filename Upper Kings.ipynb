{
 "cells": [
  {
   "cell_type": "code",
   "execution_count": 35,
   "id": "dce36470",
   "metadata": {},
   "outputs": [],
   "source": [
    "from os.path import join\n",
    "\n",
    "import earthaccess\n",
    "\n",
    "import geopandas as gpd\n",
    "import rasters as rt\n",
    "\n",
    "from EMITL2ARFL import *"
   ]
  },
  {
   "cell_type": "markdown",
   "id": "063c94c4",
   "metadata": {},
   "source": [
    "date range"
   ]
  },
  {
   "cell_type": "code",
   "execution_count": 2,
   "id": "45ee2d11",
   "metadata": {},
   "outputs": [],
   "source": [
    "start_date = \"2023-04-01\"\n",
    "end_date = \"2023-06-01\""
   ]
  },
  {
   "cell_type": "markdown",
   "id": "cfcdb0bc",
   "metadata": {},
   "source": [
    "download directory"
   ]
  },
  {
   "cell_type": "code",
   "execution_count": 3,
   "id": "816ba3bd",
   "metadata": {},
   "outputs": [],
   "source": [
    "download_directory = \"~/data/EMIT_download\""
   ]
  },
  {
   "cell_type": "markdown",
   "id": "cd3881fe",
   "metadata": {},
   "source": [
    "output directory"
   ]
  },
  {
   "cell_type": "code",
   "execution_count": 19,
   "id": "8c53bc9c",
   "metadata": {},
   "outputs": [],
   "source": [
    "output_directory = \"~/data/Kings Canyon EMIT\""
   ]
  },
  {
   "cell_type": "markdown",
   "id": "50b3bd93",
   "metadata": {},
   "source": [
    "Upper Kings area of interest"
   ]
  },
  {
   "cell_type": "code",
   "execution_count": 4,
   "id": "7951d3ab",
   "metadata": {},
   "outputs": [
    {
     "data": {
      "text/html": [
       "<div>\n",
       "<style scoped>\n",
       "    .dataframe tbody tr th:only-of-type {\n",
       "        vertical-align: middle;\n",
       "    }\n",
       "\n",
       "    .dataframe tbody tr th {\n",
       "        vertical-align: top;\n",
       "    }\n",
       "\n",
       "    .dataframe thead th {\n",
       "        text-align: right;\n",
       "    }\n",
       "</style>\n",
       "<table border=\"1\" class=\"dataframe\">\n",
       "  <thead>\n",
       "    <tr style=\"text-align: right;\">\n",
       "      <th></th>\n",
       "      <th>Name</th>\n",
       "      <th>Description</th>\n",
       "      <th>geometry</th>\n",
       "    </tr>\n",
       "  </thead>\n",
       "  <tbody>\n",
       "    <tr>\n",
       "      <th>0</th>\n",
       "      <td>0</td>\n",
       "      <td>&lt;html xmlns:fo=\"http://www.w3.org/1999/XSL/For...</td>\n",
       "      <td>MULTIPOLYGON Z (((-118.75179 36.85601 0, -118....</td>\n",
       "    </tr>\n",
       "  </tbody>\n",
       "</table>\n",
       "</div>"
      ],
      "text/plain": [
       "  Name                                        Description  \\\n",
       "0    0  <html xmlns:fo=\"http://www.w3.org/1999/XSL/For...   \n",
       "\n",
       "                                            geometry  \n",
       "0  MULTIPOLYGON Z (((-118.75179 36.85601 0, -118....  "
      ]
     },
     "execution_count": 4,
     "metadata": {},
     "output_type": "execute_result"
    }
   ],
   "source": [
    "gdf = gpd.read_file(\"upper_kings.kml\")\n",
    "gdf"
   ]
  },
  {
   "cell_type": "code",
   "execution_count": 5,
   "id": "7f1aba85",
   "metadata": {},
   "outputs": [
    {
     "data": {
      "image/svg+xml": [
       "<svg xmlns=\"http://www.w3.org/2000/svg\" xmlns:xlink=\"http://www.w3.org/1999/xlink\" width=\"100.0\" height=\"100.0\" viewBox=\"-118.77555938868137 36.56952187249183 0.4661740671847525 0.5922276095799361\" preserveAspectRatio=\"xMinYMin meet\"><g transform=\"matrix(1,0,0,-1,0,73.7312713545636)\"><g><path fill-rule=\"evenodd\" fill=\"#66cc99\" stroke=\"#555555\" stroke-width=\"0.011844552191598723\" opacity=\"0.6\" d=\"M -118.75179336538,36.8560054055524 L -118.75179336538,36.8560054055524 L -118.743018955865,36.8464809995079 L -118.718385467173,36.841233321285 L -118.698729084739,36.8413356201814 L -118.669965058155,36.8372454743763 L -118.65096000978,36.8222238656854 L -118.638768182765,36.804121860702 L -118.612291487905,36.7981922604537 L -118.612906142798,36.7569370160943 L -118.605574450662,36.7297964802785 L -118.563889322764,36.7013719685922 L -118.542341087436,36.677865300318 L -118.532451820717,36.6611097808275 L -118.535847796164,36.6293005899985 L -118.538842395183,36.6049780503338 L -118.536558554096,36.5935506131577 L -118.522756550821,36.5914562284022 L -118.502327797986,36.6044074305123 L -118.48768747109,36.6151827379332 L -118.477562117532,36.6441629461739 L -118.46873616642,36.6624084780356 L -118.438078181179,36.6767815822392 L -118.405608789618,36.6875806486806 L -118.354841959651,36.6876914660071 L -118.33529282043,36.7002257159523 L -118.331319677407,36.7184427859625 L -118.338943790322,36.7312835345775 L -118.355924714641,36.7480377685847 L -118.365759990699,36.7594452570892 L -118.370258358109,36.7730047406643 L -118.364541221074,36.7962365140716 L -118.371730041928,36.814073621358 L -118.376678607793,36.826221333032 L -118.349502632642,36.8423704758143 L -118.359339469176,36.8677768295363 L -118.348291951553,36.8819824237906 L -118.360932455294,36.9044360974935 L -118.372071698168,36.9203796268144 L -118.378825777923,36.9475681490007 L -118.39290292684,36.9540379724336 L -118.394450119182,36.9723627712262 L -118.410787235715,36.9871234625091 L -118.406388263987,36.9971898728096 L -118.413832759893,37.0089994525078 L -118.41165769123,37.0208332252118 L -118.425762086294,37.0290832971361 L -118.428857173621,37.0592596042781 L -118.471181533243,37.0745518549307 L -118.480871070126,37.0845984544677 L -118.497963746718,37.0910537030511 L -118.524038956875,37.1087572159892 L -118.555881968322,37.1167349806868 L -118.57055012219,37.1174158302619 L -118.598170030074,37.1356049856822 L -118.630270196234,37.1347531428026 L -118.646816058709,37.1398151261614 L -118.642106828584,37.1229987220022 L -118.629207485116,37.1135415721163 L -118.603518478564,37.1121793465625 L -118.594176662526,37.0836880550974 L -118.582079142131,37.0537363961676 L -118.575573090131,37.0376709581218 L -118.580911284085,37.0120648604171 L -118.593496631153,36.976924255878 L -118.605165733769,36.9425247288916 L -118.675466290747,36.9268796358257 L -118.727593041996,36.9259073994129 L -118.753625032771,36.9091305106524 L -118.75179336538,36.8560054055524 z\" /></g></g></svg>"
      ],
      "text/plain": [
       "<MULTIPOLYGON Z (((-118.752 36.856 0, -118.752 36.856 0, -118.743 36.846 0, ...>"
      ]
     },
     "execution_count": 5,
     "metadata": {},
     "output_type": "execute_result"
    }
   ],
   "source": [
    "gdf.geometry[0]"
   ]
  },
  {
   "cell_type": "code",
   "execution_count": 6,
   "id": "27b67657",
   "metadata": {},
   "outputs": [
    {
     "name": "stderr",
     "output_type": "stream",
     "text": [
      "/var/folders/hk/35_x93nx79vg1zmd2fy1vcbr0000gq/T/ipykernel_93872/4116591760.py:1: DeprecationWarning: The 'unary_union' attribute is deprecated, use the 'union_all()' method instead.\n",
      "  bbox_UTM = rt.Polygon(gdf.unary_union).UTM.bbox\n"
     ]
    },
    {
     "data": {
      "text/plain": [
       "BBox(xmin=343776.99999338, ymin=4050631.999999944, xmax=381105.99999904167, ymax=4111651.9999999665, crs=\"EPSG:32611\")"
      ]
     },
     "execution_count": 6,
     "metadata": {},
     "output_type": "execute_result"
    }
   ],
   "source": [
    "bbox_UTM = rt.Polygon(gdf.unary_union).UTM.bbox\n",
    "bbox_UTM"
   ]
  },
  {
   "cell_type": "code",
   "execution_count": 7,
   "id": "3e5f8574",
   "metadata": {},
   "outputs": [
    {
     "data": {
      "text/plain": [
       "{\n",
       "  \"dimensions\": {\n",
       "    \"rows\": 1017,\n",
       "    \"cols\": 622\n",
       "  },\n",
       "  \"bbox\": {\n",
       "    \"xmin\": 343776.99999338,\n",
       "    \"ymin\": 4050631.9999999665,\n",
       "    \"xmax\": 381096.99999338,\n",
       "    \"ymax\": 4111651.9999999665\n",
       "  },\n",
       "  \"crs\": \"EPSG:32611\",\n",
       "  \"resolution\": {\n",
       "    \"cell_width\": 60.0,\n",
       "    \"cell_height\": -60.0\n",
       "  }\n",
       "}"
      ]
     },
     "execution_count": 7,
     "metadata": {},
     "output_type": "execute_result"
    }
   ],
   "source": [
    "grid = rt.RasterGrid.from_bbox(bbox_UTM, cell_size=60, crs=bbox_UTM.crs)\n",
    "grid"
   ]
  },
  {
   "cell_type": "markdown",
   "id": "1512404d",
   "metadata": {},
   "source": [
    "Log into `earthaccess` using `netrc` credentials"
   ]
  },
  {
   "cell_type": "code",
   "execution_count": 8,
   "id": "73a628a3",
   "metadata": {},
   "outputs": [
    {
     "data": {
      "text/plain": [
       "<earthaccess.auth.Auth at 0x11272f610>"
      ]
     },
     "execution_count": 8,
     "metadata": {},
     "output_type": "execute_result"
    }
   ],
   "source": [
    "earthaccess.login(strategy=\"netrc\", persist=True)"
   ]
  },
  {
   "cell_type": "markdown",
   "id": "b0f25a19",
   "metadata": {},
   "source": [
    "search for EMIT granules covering area of interest"
   ]
  },
  {
   "cell_type": "code",
   "execution_count": 9,
   "id": "e74ebf22",
   "metadata": {},
   "outputs": [
    {
     "data": {
      "text/plain": [
       "[Collection: {'ShortName': 'EMITL2ARFL', 'Version': '001'}\n",
       " Spatial coverage: {'HorizontalSpatialDomain': {'Geometry': {'GPolygons': [{'Boundary': {'Points': [{'Longitude': -119.02839660644531, 'Latitude': 37.37525939941406}, {'Longitude': -119.491455078125, 'Latitude': 36.722076416015625}, {'Longitude': -118.73031616210938, 'Latitude': 36.18247985839844}, {'Longitude': -118.26725769042969, 'Latitude': 36.835662841796875}, {'Longitude': -119.02839660644531, 'Latitude': 37.37525939941406}]}}]}}}\n",
       " Temporal coverage: {'RangeDateTime': {'BeginningDateTime': '2023-04-15T22:24:20Z', 'EndingDateTime': '2023-04-15T22:24:32Z'}}\n",
       " Size(MB): 3582.072193145752\n",
       " Data: ['https://data.lpdaac.earthdatacloud.nasa.gov/lp-prod-protected/EMITL2ARFL.001/EMIT_L2A_RFL_001_20230415T222420_2310515_007/EMIT_L2A_RFL_001_20230415T222420_2310515_007.nc', 'https://data.lpdaac.earthdatacloud.nasa.gov/lp-prod-protected/EMITL2ARFL.001/EMIT_L2A_RFL_001_20230415T222420_2310515_007/EMIT_L2A_RFLUNCERT_001_20230415T222420_2310515_007.nc', 'https://data.lpdaac.earthdatacloud.nasa.gov/lp-prod-protected/EMITL2ARFL.001/EMIT_L2A_RFL_001_20230415T222420_2310515_007/EMIT_L2A_MASK_001_20230415T222420_2310515_007.nc'],\n",
       " Collection: {'ShortName': 'EMITL2ARFL', 'Version': '001'}\n",
       " Spatial coverage: {'HorizontalSpatialDomain': {'Geometry': {'GPolygons': [{'Boundary': {'Points': [{'Longitude': -118.32987213134766, 'Latitude': 36.88438415527344}, {'Longitude': -118.80245208740234, 'Latitude': 36.23663330078125}, {'Longitude': -118.06009674072266, 'Latitude': 35.695037841796875}, {'Longitude': -117.58751678466797, 'Latitude': 36.34278869628906}, {'Longitude': -118.32987213134766, 'Latitude': 36.88438415527344}]}}]}}}\n",
       " Temporal coverage: {'RangeDateTime': {'BeginningDateTime': '2023-04-15T22:24:32Z', 'EndingDateTime': '2023-04-15T22:24:44Z'}}\n",
       " Size(MB): 3581.5175590515137\n",
       " Data: ['https://data.lpdaac.earthdatacloud.nasa.gov/lp-prod-protected/EMITL2ARFL.001/EMIT_L2A_RFL_001_20230415T222432_2310515_008/EMIT_L2A_RFL_001_20230415T222432_2310515_008.nc', 'https://data.lpdaac.earthdatacloud.nasa.gov/lp-prod-protected/EMITL2ARFL.001/EMIT_L2A_RFL_001_20230415T222432_2310515_008/EMIT_L2A_RFLUNCERT_001_20230415T222432_2310515_008.nc', 'https://data.lpdaac.earthdatacloud.nasa.gov/lp-prod-protected/EMITL2ARFL.001/EMIT_L2A_RFL_001_20230415T222432_2310515_008/EMIT_L2A_MASK_001_20230415T222432_2310515_008.nc'],\n",
       " Collection: {'ShortName': 'EMITL2ARFL', 'Version': '001'}\n",
       " Spatial coverage: {'HorizontalSpatialDomain': {'Geometry': {'GPolygons': [{'Boundary': {'Points': [{'Longitude': -118.29529571533203, 'Latitude': 37.966678619384766}, {'Longitude': -118.75489044189453, 'Latitude': 37.30659103393555}, {'Longitude': -117.98670196533203, 'Latitude': 36.7717399597168}, {'Longitude': -117.52710723876953, 'Latitude': 37.431827545166016}, {'Longitude': -118.29529571533203, 'Latitude': 37.966678619384766}]}}]}}}\n",
       " Temporal coverage: {'RangeDateTime': {'BeginningDateTime': '2023-04-23T19:10:45Z', 'EndingDateTime': '2023-04-23T19:10:57Z'}}\n",
       " Size(MB): 3581.0333156585693\n",
       " Data: ['https://data.lpdaac.earthdatacloud.nasa.gov/lp-prod-protected/EMITL2ARFL.001/EMIT_L2A_RFL_001_20230423T191045_2311313_008/EMIT_L2A_RFL_001_20230423T191045_2311313_008.nc', 'https://data.lpdaac.earthdatacloud.nasa.gov/lp-prod-protected/EMITL2ARFL.001/EMIT_L2A_RFL_001_20230423T191045_2311313_008/EMIT_L2A_MASK_001_20230423T191045_2311313_008.nc', 'https://data.lpdaac.earthdatacloud.nasa.gov/lp-prod-protected/EMITL2ARFL.001/EMIT_L2A_RFL_001_20230423T191045_2311313_008/EMIT_L2A_RFLUNCERT_001_20230423T191045_2311313_008.nc'],\n",
       " Collection: {'ShortName': 'EMITL2ARFL', 'Version': '001'}\n",
       " Spatial coverage: {'HorizontalSpatialDomain': {'Geometry': {'GPolygons': [{'Boundary': {'Points': [{'Longitude': -117.93266296386719, 'Latitude': 36.93979263305664}, {'Longitude': -118.76469421386719, 'Latitude': 36.33407974243164}, {'Longitude': -118.29736328125, 'Latitude': 35.692134857177734}, {'Longitude': -117.46533203125, 'Latitude': 36.297847747802734}, {'Longitude': -117.93266296386719, 'Latitude': 36.93979263305664}]}}]}}}\n",
       " Temporal coverage: {'RangeDateTime': {'BeginningDateTime': '2023-05-28T22:04:55Z', 'EndingDateTime': '2023-05-28T22:05:07Z'}}\n",
       " Size(MB): 3580.7134704589844\n",
       " Data: ['https://data.lpdaac.earthdatacloud.nasa.gov/lp-prod-protected/EMITL2ARFL.001/EMIT_L2A_RFL_001_20230528T220455_2314815_007/EMIT_L2A_RFL_001_20230528T220455_2314815_007.nc', 'https://data.lpdaac.earthdatacloud.nasa.gov/lp-prod-protected/EMITL2ARFL.001/EMIT_L2A_RFL_001_20230528T220455_2314815_007/EMIT_L2A_RFLUNCERT_001_20230528T220455_2314815_007.nc', 'https://data.lpdaac.earthdatacloud.nasa.gov/lp-prod-protected/EMITL2ARFL.001/EMIT_L2A_RFL_001_20230528T220455_2314815_007/EMIT_L2A_MASK_001_20230528T220455_2314815_007.nc']]"
      ]
     },
     "execution_count": 9,
     "metadata": {},
     "output_type": "execute_result"
    }
   ],
   "source": [
    "search_results = search_EMIT_L2A_RFL_granules(\n",
    "    start_UTC=start_date,\n",
    "    end_UTC=end_date,\n",
    "    geometry=grid\n",
    ")\n",
    "\n",
    "search_results"
   ]
  },
  {
   "cell_type": "markdown",
   "id": "efa7d3ba",
   "metadata": {},
   "source": [
    "download each granule, extract subset projected to target grid, and write to multi-band GeoTIFF"
   ]
  },
  {
   "cell_type": "code",
   "execution_count": 36,
   "id": "de41ecc7",
   "metadata": {},
   "outputs": [
    {
     "name": "stdout",
     "output_type": "stream",
     "text": [
      "EMIT_L2A_RFL_001_20230415T222420_2310515_007\n"
     ]
    },
    {
     "data": {
      "application/vnd.jupyter.widget-view+json": {
       "model_id": "74d2ebbf268648f3885b0d5f333db3cb",
       "version_major": 2,
       "version_minor": 0
      },
      "text/plain": [
       "QUEUEING TASKS | :   0%|          | 0/3 [00:00<?, ?it/s]"
      ]
     },
     "metadata": {},
     "output_type": "display_data"
    },
    {
     "data": {
      "application/vnd.jupyter.widget-view+json": {
       "model_id": "df048d90369b470ab53aa11d4e1950d4",
       "version_major": 2,
       "version_minor": 0
      },
      "text/plain": [
       "PROCESSING TASKS | :   0%|          | 0/3 [00:00<?, ?it/s]"
      ]
     },
     "metadata": {},
     "output_type": "display_data"
    },
    {
     "data": {
      "application/vnd.jupyter.widget-view+json": {
       "model_id": "155182f51f3345adb12d449e28864b98",
       "version_major": 2,
       "version_minor": 0
      },
      "text/plain": [
       "COLLECTING RESULTS | :   0%|          | 0/3 [00:00<?, ?it/s]"
      ]
     },
     "metadata": {},
     "output_type": "display_data"
    },
    {
     "name": "stdout",
     "output_type": "stream",
     "text": [
      "~/data/Kings Canyon EMIT/EMIT_L2A_RFL_001_20230415T222420_2310515_007.tif\n",
      "EMIT_L2A_RFL_001_20230415T222432_2310515_008\n"
     ]
    },
    {
     "name": "stderr",
     "output_type": "stream",
     "text": [
      "/Users/halverso/Projects/rasters/rasters/multi_raster.py:251: RuntimeWarning: invalid value encountered in cast\n",
      "  pillow_image = PIL.Image.fromarray(np.uint8(np.stack([red, green, blue], axis=2) * 255))\n"
     ]
    },
    {
     "data": {
      "application/vnd.jupyter.widget-view+json": {
       "model_id": "b93e3efa0c554c37901efbb42699998f",
       "version_major": 2,
       "version_minor": 0
      },
      "text/plain": [
       "QUEUEING TASKS | :   0%|          | 0/3 [00:00<?, ?it/s]"
      ]
     },
     "metadata": {},
     "output_type": "display_data"
    },
    {
     "data": {
      "application/vnd.jupyter.widget-view+json": {
       "model_id": "08742e9aeb7a41fa8c8401be0474fe66",
       "version_major": 2,
       "version_minor": 0
      },
      "text/plain": [
       "PROCESSING TASKS | :   0%|          | 0/3 [00:00<?, ?it/s]"
      ]
     },
     "metadata": {},
     "output_type": "display_data"
    },
    {
     "data": {
      "application/vnd.jupyter.widget-view+json": {
       "model_id": "4623d231344040b483a3a475f5f1bb29",
       "version_major": 2,
       "version_minor": 0
      },
      "text/plain": [
       "COLLECTING RESULTS | :   0%|          | 0/3 [00:00<?, ?it/s]"
      ]
     },
     "metadata": {},
     "output_type": "display_data"
    },
    {
     "name": "stdout",
     "output_type": "stream",
     "text": [
      "~/data/Kings Canyon EMIT/EMIT_L2A_RFL_001_20230415T222432_2310515_008.tif\n",
      "EMIT_L2A_RFL_001_20230423T191045_2311313_008\n"
     ]
    },
    {
     "name": "stderr",
     "output_type": "stream",
     "text": [
      "/Users/halverso/Projects/rasters/rasters/multi_raster.py:251: RuntimeWarning: invalid value encountered in cast\n",
      "  pillow_image = PIL.Image.fromarray(np.uint8(np.stack([red, green, blue], axis=2) * 255))\n"
     ]
    },
    {
     "data": {
      "application/vnd.jupyter.widget-view+json": {
       "model_id": "e9e387ef91ff439c9febbf22400ca34a",
       "version_major": 2,
       "version_minor": 0
      },
      "text/plain": [
       "QUEUEING TASKS | :   0%|          | 0/3 [00:00<?, ?it/s]"
      ]
     },
     "metadata": {},
     "output_type": "display_data"
    },
    {
     "data": {
      "application/vnd.jupyter.widget-view+json": {
       "model_id": "04bf7bb6a343491cbda61d0b67ff979d",
       "version_major": 2,
       "version_minor": 0
      },
      "text/plain": [
       "PROCESSING TASKS | :   0%|          | 0/3 [00:00<?, ?it/s]"
      ]
     },
     "metadata": {},
     "output_type": "display_data"
    },
    {
     "data": {
      "application/vnd.jupyter.widget-view+json": {
       "model_id": "0f30fe8c54f54441ab93cc38c8f9bc10",
       "version_major": 2,
       "version_minor": 0
      },
      "text/plain": [
       "COLLECTING RESULTS | :   0%|          | 0/3 [00:00<?, ?it/s]"
      ]
     },
     "metadata": {},
     "output_type": "display_data"
    },
    {
     "name": "stdout",
     "output_type": "stream",
     "text": [
      "~/data/Kings Canyon EMIT/EMIT_L2A_RFL_001_20230423T191045_2311313_008.tif\n",
      "EMIT_L2A_RFL_001_20230528T220455_2314815_007\n"
     ]
    },
    {
     "name": "stderr",
     "output_type": "stream",
     "text": [
      "/Users/halverso/Projects/rasters/rasters/multi_raster.py:251: RuntimeWarning: invalid value encountered in cast\n",
      "  pillow_image = PIL.Image.fromarray(np.uint8(np.stack([red, green, blue], axis=2) * 255))\n"
     ]
    },
    {
     "data": {
      "application/vnd.jupyter.widget-view+json": {
       "model_id": "a6322c02a16f446f9bcda91e68cad776",
       "version_major": 2,
       "version_minor": 0
      },
      "text/plain": [
       "QUEUEING TASKS | :   0%|          | 0/3 [00:00<?, ?it/s]"
      ]
     },
     "metadata": {},
     "output_type": "display_data"
    },
    {
     "data": {
      "application/vnd.jupyter.widget-view+json": {
       "model_id": "097ff2ed3d434f8f9ab31a83b22cb448",
       "version_major": 2,
       "version_minor": 0
      },
      "text/plain": [
       "PROCESSING TASKS | :   0%|          | 0/3 [00:00<?, ?it/s]"
      ]
     },
     "metadata": {},
     "output_type": "display_data"
    },
    {
     "data": {
      "application/vnd.jupyter.widget-view+json": {
       "model_id": "75d1cf5b6e814c1b9f260c2da2b23970",
       "version_major": 2,
       "version_minor": 0
      },
      "text/plain": [
       "COLLECTING RESULTS | :   0%|          | 0/3 [00:00<?, ?it/s]"
      ]
     },
     "metadata": {},
     "output_type": "display_data"
    },
    {
     "name": "stdout",
     "output_type": "stream",
     "text": [
      "~/data/Kings Canyon EMIT/EMIT_L2A_RFL_001_20230528T220455_2314815_007.tif\n"
     ]
    },
    {
     "name": "stderr",
     "output_type": "stream",
     "text": [
      "/Users/halverso/Projects/rasters/rasters/multi_raster.py:251: RuntimeWarning: invalid value encountered in cast\n",
      "  pillow_image = PIL.Image.fromarray(np.uint8(np.stack([red, green, blue], axis=2) * 255))\n"
     ]
    }
   ],
   "source": [
    "for search_result in search_results:\n",
    "    granule_ID = dict(search_result.items())[\"meta\"][\"native-id\"]\n",
    "    print(granule_ID)\n",
    "    output_filename = join(output_directory, f\"{granule_ID}.tif\")\n",
    "    granule = retrieve_EMIT_L2A_RFL_granule(search_result)\n",
    "    reflectance = granule.reflectance(geometry=grid)\n",
    "    print(output_filename)\n",
    "    reflectance.to_geotiff(output_filename)"
   ]
  },
  {
   "cell_type": "code",
   "execution_count": null,
   "id": "55cbdc27",
   "metadata": {},
   "outputs": [],
   "source": []
  },
  {
   "cell_type": "markdown",
   "id": "ac53facd",
   "metadata": {},
   "source": []
  }
 ],
 "metadata": {
  "kernelspec": {
   "display_name": "EMITL2ARFL",
   "language": "python",
   "name": "python3"
  },
  "language_info": {
   "codemirror_mode": {
    "name": "ipython",
    "version": 3
   },
   "file_extension": ".py",
   "mimetype": "text/x-python",
   "name": "python",
   "nbconvert_exporter": "python",
   "pygments_lexer": "ipython3",
   "version": "3.10.17"
  }
 },
 "nbformat": 4,
 "nbformat_minor": 5
}
